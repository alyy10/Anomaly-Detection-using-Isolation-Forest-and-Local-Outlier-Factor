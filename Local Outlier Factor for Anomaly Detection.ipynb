{
 "cells": [
  {
   "cell_type": "code",
   "execution_count": null,
   "metadata": {},
   "outputs": [],
   "source": [
    "import pandas as pd\n",
    "import matplotlib.pyplot as plt\n",
    "import seaborn as sns\n",
    "import numpy as np\n",
    "from sklearn.neighbors import LocalOutlierFactor\n",
    "from numpy import quantile, where, random"
   ]
  },
  {
   "cell_type": "code",
   "execution_count": null,
   "metadata": {},
   "outputs": [
    {
     "data": {
      "text/html": [
       "<div>\n",
       "<style scoped>\n",
       "    .dataframe tbody tr th:only-of-type {\n",
       "        vertical-align: middle;\n",
       "    }\n",
       "\n",
       "    .dataframe tbody tr th {\n",
       "        vertical-align: top;\n",
       "    }\n",
       "\n",
       "    .dataframe thead th {\n",
       "        text-align: right;\n",
       "    }\n",
       "</style>\n",
       "<table border=\"1\" class=\"dataframe\">\n",
       "  <thead>\n",
       "    <tr style=\"text-align: right;\">\n",
       "      <th></th>\n",
       "      <th>Timestamp</th>\n",
       "      <th>Value</th>\n",
       "      <th>C1</th>\n",
       "      <th>C2</th>\n",
       "      <th>C3</th>\n",
       "      <th>C4</th>\n",
       "      <th>C5</th>\n",
       "      <th>C6</th>\n",
       "      <th>C7</th>\n",
       "      <th>C8</th>\n",
       "      <th>C9</th>\n",
       "      <th>C10</th>\n",
       "      <th>C11</th>\n",
       "      <th>C12</th>\n",
       "      <th>Class</th>\n",
       "    </tr>\n",
       "  </thead>\n",
       "  <tbody>\n",
       "    <tr>\n",
       "      <th>139990</th>\n",
       "      <td>65950.00000</td>\n",
       "      <td>122.120</td>\n",
       "      <td>NaN</td>\n",
       "      <td>0.482710</td>\n",
       "      <td>5.333862</td>\n",
       "      <td>0.028714</td>\n",
       "      <td>-0.181286</td>\n",
       "      <td>0.109386</td>\n",
       "      <td>0.304171</td>\n",
       "      <td>0.023617</td>\n",
       "      <td>0.081250</td>\n",
       "      <td>-228.000000</td>\n",
       "      <td>-159.000000</td>\n",
       "      <td>0.550484</td>\n",
       "      <td>0</td>\n",
       "    </tr>\n",
       "    <tr>\n",
       "      <th>139991</th>\n",
       "      <td>129582.22220</td>\n",
       "      <td>52.472</td>\n",
       "      <td>-5.614622</td>\n",
       "      <td>-0.156727</td>\n",
       "      <td>8.082914</td>\n",
       "      <td>0.002258</td>\n",
       "      <td>0.163800</td>\n",
       "      <td>NaN</td>\n",
       "      <td>0.089021</td>\n",
       "      <td>0.040127</td>\n",
       "      <td>-0.035838</td>\n",
       "      <td>0.084564</td>\n",
       "      <td>-0.407104</td>\n",
       "      <td>1.875533</td>\n",
       "      <td>0</td>\n",
       "    </tr>\n",
       "    <tr>\n",
       "      <th>139992</th>\n",
       "      <td>81861.11111</td>\n",
       "      <td>33.640</td>\n",
       "      <td>NaN</td>\n",
       "      <td>-0.231615</td>\n",
       "      <td>7.160120</td>\n",
       "      <td>-0.030916</td>\n",
       "      <td>0.211954</td>\n",
       "      <td>-0.124178</td>\n",
       "      <td>-0.028960</td>\n",
       "      <td>-0.013936</td>\n",
       "      <td>-0.226740</td>\n",
       "      <td>-231.000000</td>\n",
       "      <td>0.286823</td>\n",
       "      <td>-119.000000</td>\n",
       "      <td>0</td>\n",
       "    </tr>\n",
       "    <tr>\n",
       "      <th>139993</th>\n",
       "      <td>16072.22222</td>\n",
       "      <td>31.200</td>\n",
       "      <td>-3.154285</td>\n",
       "      <td>NaN</td>\n",
       "      <td>-476.000000</td>\n",
       "      <td>0.013395</td>\n",
       "      <td>-0.072426</td>\n",
       "      <td>-0.163762</td>\n",
       "      <td>-400.000000</td>\n",
       "      <td>-0.107400</td>\n",
       "      <td>-0.091013</td>\n",
       "      <td>NaN</td>\n",
       "      <td>-136.000000</td>\n",
       "      <td>-1.639422</td>\n",
       "      <td>0</td>\n",
       "    </tr>\n",
       "    <tr>\n",
       "      <th>139994</th>\n",
       "      <td>52066.66667</td>\n",
       "      <td>100.000</td>\n",
       "      <td>-2.055514</td>\n",
       "      <td>-464.000000</td>\n",
       "      <td>NaN</td>\n",
       "      <td>-0.029408</td>\n",
       "      <td>-0.276556</td>\n",
       "      <td>-250.000000</td>\n",
       "      <td>-0.109465</td>\n",
       "      <td>0.004417</td>\n",
       "      <td>0.151706</td>\n",
       "      <td>-0.241706</td>\n",
       "      <td>0.077042</td>\n",
       "      <td>NaN</td>\n",
       "      <td>0</td>\n",
       "    </tr>\n",
       "    <tr>\n",
       "      <th>139995</th>\n",
       "      <td>183231.11110</td>\n",
       "      <td>102.680</td>\n",
       "      <td>26.000000</td>\n",
       "      <td>-0.230035</td>\n",
       "      <td>-7.050312</td>\n",
       "      <td>0.017126</td>\n",
       "      <td>0.101611</td>\n",
       "      <td>2.443864</td>\n",
       "      <td>-0.068998</td>\n",
       "      <td>0.159159</td>\n",
       "      <td>-0.106062</td>\n",
       "      <td>0.342779</td>\n",
       "      <td>-0.011073</td>\n",
       "      <td>0.809047</td>\n",
       "      <td>0</td>\n",
       "    </tr>\n",
       "    <tr>\n",
       "      <th>139996</th>\n",
       "      <td>169976.66670</td>\n",
       "      <td>9.848</td>\n",
       "      <td>5.329287</td>\n",
       "      <td>-0.151293</td>\n",
       "      <td>8.303946</td>\n",
       "      <td>-0.004504</td>\n",
       "      <td>-0.040837</td>\n",
       "      <td>1.323421</td>\n",
       "      <td>0.083422</td>\n",
       "      <td>0.007135</td>\n",
       "      <td>-0.179373</td>\n",
       "      <td>-0.157173</td>\n",
       "      <td>0.318506</td>\n",
       "      <td>-1.106630</td>\n",
       "      <td>0</td>\n",
       "    </tr>\n",
       "    <tr>\n",
       "      <th>139997</th>\n",
       "      <td>40377.77778</td>\n",
       "      <td>3.072</td>\n",
       "      <td>-4.025570</td>\n",
       "      <td>-0.468904</td>\n",
       "      <td>-275.000000</td>\n",
       "      <td>0.014959</td>\n",
       "      <td>0.296391</td>\n",
       "      <td>0.609542</td>\n",
       "      <td>0.070729</td>\n",
       "      <td>NaN</td>\n",
       "      <td>0.029990</td>\n",
       "      <td>0.438644</td>\n",
       "      <td>-0.026816</td>\n",
       "      <td>-0.107358</td>\n",
       "      <td>0</td>\n",
       "    </tr>\n",
       "    <tr>\n",
       "      <th>139998</th>\n",
       "      <td>58136.66667</td>\n",
       "      <td>12.800</td>\n",
       "      <td>-7.357232</td>\n",
       "      <td>0.319784</td>\n",
       "      <td>-6.087797</td>\n",
       "      <td>0.018416</td>\n",
       "      <td>0.167421</td>\n",
       "      <td>NaN</td>\n",
       "      <td>-0.018847</td>\n",
       "      <td>NaN</td>\n",
       "      <td>-0.228823</td>\n",
       "      <td>0.215016</td>\n",
       "      <td>-0.027304</td>\n",
       "      <td>-1.354674</td>\n",
       "      <td>0</td>\n",
       "    </tr>\n",
       "    <tr>\n",
       "      <th>139999</th>\n",
       "      <td>38507.77778</td>\n",
       "      <td>55.200</td>\n",
       "      <td>-16.080427</td>\n",
       "      <td>0.076156</td>\n",
       "      <td>3.255180</td>\n",
       "      <td>-0.000096</td>\n",
       "      <td>-0.203999</td>\n",
       "      <td>-0.221742</td>\n",
       "      <td>-0.182109</td>\n",
       "      <td>NaN</td>\n",
       "      <td>0.297503</td>\n",
       "      <td>-0.449070</td>\n",
       "      <td>0.222638</td>\n",
       "      <td>-1.800533</td>\n",
       "      <td>0</td>\n",
       "    </tr>\n",
       "  </tbody>\n",
       "</table>\n",
       "</div>"
      ],
      "text/plain": [
       "           Timestamp    Value         C1          C2          C3        C4  \\\n",
       "139990   65950.00000  122.120        NaN    0.482710    5.333862  0.028714   \n",
       "139991  129582.22220   52.472  -5.614622   -0.156727    8.082914  0.002258   \n",
       "139992   81861.11111   33.640        NaN   -0.231615    7.160120 -0.030916   \n",
       "139993   16072.22222   31.200  -3.154285         NaN -476.000000  0.013395   \n",
       "139994   52066.66667  100.000  -2.055514 -464.000000         NaN -0.029408   \n",
       "139995  183231.11110  102.680  26.000000   -0.230035   -7.050312  0.017126   \n",
       "139996  169976.66670    9.848   5.329287   -0.151293    8.303946 -0.004504   \n",
       "139997   40377.77778    3.072  -4.025570   -0.468904 -275.000000  0.014959   \n",
       "139998   58136.66667   12.800  -7.357232    0.319784   -6.087797  0.018416   \n",
       "139999   38507.77778   55.200 -16.080427    0.076156    3.255180 -0.000096   \n",
       "\n",
       "              C5          C6          C7        C8        C9         C10  \\\n",
       "139990 -0.181286    0.109386    0.304171  0.023617  0.081250 -228.000000   \n",
       "139991  0.163800         NaN    0.089021  0.040127 -0.035838    0.084564   \n",
       "139992  0.211954   -0.124178   -0.028960 -0.013936 -0.226740 -231.000000   \n",
       "139993 -0.072426   -0.163762 -400.000000 -0.107400 -0.091013         NaN   \n",
       "139994 -0.276556 -250.000000   -0.109465  0.004417  0.151706   -0.241706   \n",
       "139995  0.101611    2.443864   -0.068998  0.159159 -0.106062    0.342779   \n",
       "139996 -0.040837    1.323421    0.083422  0.007135 -0.179373   -0.157173   \n",
       "139997  0.296391    0.609542    0.070729       NaN  0.029990    0.438644   \n",
       "139998  0.167421         NaN   -0.018847       NaN -0.228823    0.215016   \n",
       "139999 -0.203999   -0.221742   -0.182109       NaN  0.297503   -0.449070   \n",
       "\n",
       "               C11         C12  Class  \n",
       "139990 -159.000000    0.550484      0  \n",
       "139991   -0.407104    1.875533      0  \n",
       "139992    0.286823 -119.000000      0  \n",
       "139993 -136.000000   -1.639422      0  \n",
       "139994    0.077042         NaN      0  \n",
       "139995   -0.011073    0.809047      0  \n",
       "139996    0.318506   -1.106630      0  \n",
       "139997   -0.026816   -0.107358      0  \n",
       "139998   -0.027304   -1.354674      0  \n",
       "139999    0.222638   -1.800533      0  "
      ]
     },
     "execution_count": 399,
     "metadata": {},
     "output_type": "execute_result"
    }
   ],
   "source": [
    "transaction_data = pd.read_csv(r\"C:\\Users\\being\\Downloads\\credit_card_transactional_data.csv\")\n",
    "transaction_data.tail(10)"
   ]
  },
  {
   "cell_type": "code",
   "execution_count": null,
   "metadata": {},
   "outputs": [
    {
     "name": "stdout",
     "output_type": "stream",
     "text": [
      "<class 'pandas.core.frame.DataFrame'>\n",
      "RangeIndex: 140000 entries, 0 to 139999\n",
      "Data columns (total 15 columns):\n",
      " #   Column     Non-Null Count   Dtype  \n",
      "---  ------     --------------   -----  \n",
      " 0   Timestamp  140000 non-null  float64\n",
      " 1   Value      140000 non-null  float64\n",
      " 2   C1         116232 non-null  float64\n",
      " 3   C2         129731 non-null  float64\n",
      " 4   C3         129693 non-null  float64\n",
      " 5   C4         140000 non-null  float64\n",
      " 6   C5         129678 non-null  float64\n",
      " 7   C6         116529 non-null  float64\n",
      " 8   C7         125595 non-null  float64\n",
      " 9   C8         129645 non-null  float64\n",
      " 10  C9         140000 non-null  float64\n",
      " 11  C10        129891 non-null  float64\n",
      " 12  C11        125695 non-null  float64\n",
      " 13  C12        125833 non-null  float64\n",
      " 14  Class      140000 non-null  int64  \n",
      "dtypes: float64(14), int64(1)\n",
      "memory usage: 16.0 MB\n"
     ]
    }
   ],
   "source": [
    "transaction_data.info()"
   ]
  },
  {
   "cell_type": "code",
   "execution_count": null,
   "metadata": {},
   "outputs": [
    {
     "data": {
      "text/plain": [
       "0    139747\n",
       "1       253\n",
       "Name: Class, dtype: int64"
      ]
     },
     "execution_count": 359,
     "metadata": {},
     "output_type": "execute_result"
    }
   ],
   "source": [
    "transaction_data['Class'].value_counts()"
   ]
  },
  {
   "cell_type": "code",
   "execution_count": null,
   "metadata": {},
   "outputs": [
    {
     "data": {
      "text/plain": [
       "<AxesSubplot:xlabel='Class', ylabel='count'>"
      ]
     },
     "execution_count": 360,
     "metadata": {},
     "output_type": "execute_result"
    },
    {
     "data": {
      "image/png": "[encoded data removed]",
      "text/plain": [
       "<Figure size 576x396 with 1 Axes>"
      ]
     },
     "metadata": {},
     "output_type": "display_data"
    }
   ],
   "source": [
    "sns.countplot(x='Class',data=transaction_data)"
   ]
  },
  {
   "cell_type": "code",
   "execution_count": null,
   "metadata": {},
   "outputs": [
    {
     "data": {
      "text/html": [
       "<div>\n",
       "<style scoped>\n",
       "    .dataframe tbody tr th:only-of-type {\n",
       "        vertical-align: middle;\n",
       "    }\n",
       "\n",
       "    .dataframe tbody tr th {\n",
       "        vertical-align: top;\n",
       "    }\n",
       "\n",
       "    .dataframe thead th {\n",
       "        text-align: right;\n",
       "    }\n",
       "</style>\n",
       "<table border=\"1\" class=\"dataframe\">\n",
       "  <thead>\n",
       "    <tr style=\"text-align: right;\">\n",
       "      <th></th>\n",
       "      <th>Timestamp</th>\n",
       "      <th>Value</th>\n",
       "      <th>C1</th>\n",
       "      <th>C2</th>\n",
       "      <th>C3</th>\n",
       "      <th>C4</th>\n",
       "      <th>C5</th>\n",
       "      <th>C6</th>\n",
       "      <th>C7</th>\n",
       "      <th>C8</th>\n",
       "      <th>C9</th>\n",
       "      <th>C10</th>\n",
       "      <th>C11</th>\n",
       "      <th>C12</th>\n",
       "      <th>Class</th>\n",
       "    </tr>\n",
       "  </thead>\n",
       "  <tbody>\n",
       "    <tr>\n",
       "      <th>count</th>\n",
       "      <td>140000.000000</td>\n",
       "      <td>140000.000000</td>\n",
       "      <td>116232.000000</td>\n",
       "      <td>129731.000000</td>\n",
       "      <td>129693.000000</td>\n",
       "      <td>140000.000000</td>\n",
       "      <td>129678.000000</td>\n",
       "      <td>116529.000000</td>\n",
       "      <td>125595.000000</td>\n",
       "      <td>129645.000000</td>\n",
       "      <td>140000.000000</td>\n",
       "      <td>129891.000000</td>\n",
       "      <td>125695.000000</td>\n",
       "      <td>125833.000000</td>\n",
       "      <td>140000.000000</td>\n",
       "    </tr>\n",
       "    <tr>\n",
       "      <th>mean</th>\n",
       "      <td>105334.592698</td>\n",
       "      <td>71.102883</td>\n",
       "      <td>-13.647954</td>\n",
       "      <td>-15.797094</td>\n",
       "      <td>-16.141105</td>\n",
       "      <td>0.000037</td>\n",
       "      <td>-15.540173</td>\n",
       "      <td>-13.681959</td>\n",
       "      <td>-14.760374</td>\n",
       "      <td>-16.067148</td>\n",
       "      <td>0.000119</td>\n",
       "      <td>-16.029764</td>\n",
       "      <td>-15.500080</td>\n",
       "      <td>-15.491673</td>\n",
       "      <td>0.001807</td>\n",
       "    </tr>\n",
       "    <tr>\n",
       "      <th>std</th>\n",
       "      <td>52763.641695</td>\n",
       "      <td>212.359700</td>\n",
       "      <td>224.599903</td>\n",
       "      <td>72.631165</td>\n",
       "      <td>74.585111</td>\n",
       "      <td>0.031540</td>\n",
       "      <td>72.120519</td>\n",
       "      <td>230.871123</td>\n",
       "      <td>235.313604</td>\n",
       "      <td>73.148242</td>\n",
       "      <td>0.215636</td>\n",
       "      <td>73.378542</td>\n",
       "      <td>237.289210</td>\n",
       "      <td>236.485713</td>\n",
       "      <td>0.042472</td>\n",
       "    </tr>\n",
       "    <tr>\n",
       "      <th>min</th>\n",
       "      <td>0.000000</td>\n",
       "      <td>0.000000</td>\n",
       "      <td>-2000.000000</td>\n",
       "      <td>-500.000000</td>\n",
       "      <td>-500.000000</td>\n",
       "      <td>-0.212540</td>\n",
       "      <td>-500.000000</td>\n",
       "      <td>-2000.000000</td>\n",
       "      <td>-1999.000000</td>\n",
       "      <td>-500.000000</td>\n",
       "      <td>-1.544515</td>\n",
       "      <td>-500.000000</td>\n",
       "      <td>-1998.000000</td>\n",
       "      <td>-2000.000000</td>\n",
       "      <td>0.000000</td>\n",
       "    </tr>\n",
       "    <tr>\n",
       "      <th>25%</th>\n",
       "      <td>60107.500002</td>\n",
       "      <td>4.400000</td>\n",
       "      <td>-6.419730</td>\n",
       "      <td>-0.262951</td>\n",
       "      <td>-9.288367</td>\n",
       "      <td>-0.017731</td>\n",
       "      <td>-0.205542</td>\n",
       "      <td>-1.149444</td>\n",
       "      <td>-0.108129</td>\n",
       "      <td>-0.033800</td>\n",
       "      <td>-0.143551</td>\n",
       "      <td>-0.509781</td>\n",
       "      <td>-0.277642</td>\n",
       "      <td>-0.596404</td>\n",
       "      <td>0.000000</td>\n",
       "    </tr>\n",
       "    <tr>\n",
       "      <th>50%</th>\n",
       "      <td>94276.111110</td>\n",
       "      <td>17.584000</td>\n",
       "      <td>-1.250014</td>\n",
       "      <td>-0.019520</td>\n",
       "      <td>-1.739613</td>\n",
       "      <td>-0.000140</td>\n",
       "      <td>0.000903</td>\n",
       "      <td>0.279868</td>\n",
       "      <td>0.023023</td>\n",
       "      <td>-0.005629</td>\n",
       "      <td>0.003731</td>\n",
       "      <td>-0.062414</td>\n",
       "      <td>-0.019975</td>\n",
       "      <td>0.007491</td>\n",
       "      <td>0.000000</td>\n",
       "    </tr>\n",
       "    <tr>\n",
       "      <th>75%</th>\n",
       "      <td>154845.833375</td>\n",
       "      <td>61.522000</td>\n",
       "      <td>5.063801</td>\n",
       "      <td>0.220734</td>\n",
       "      <td>6.436411</td>\n",
       "      <td>0.017776</td>\n",
       "      <td>0.206203</td>\n",
       "      <td>1.092373</td>\n",
       "      <td>0.109777</td>\n",
       "      <td>0.022194</td>\n",
       "      <td>0.140835</td>\n",
       "      <td>0.327266</td>\n",
       "      <td>0.224548</td>\n",
       "      <td>0.507399</td>\n",
       "      <td>0.000000</td>\n",
       "    </tr>\n",
       "    <tr>\n",
       "      <th>max</th>\n",
       "      <td>191985.555600</td>\n",
       "      <td>20552.928000</td>\n",
       "      <td>2000.000000</td>\n",
       "      <td>100.000000</td>\n",
       "      <td>196.401291</td>\n",
       "      <td>0.278668</td>\n",
       "      <td>100.000000</td>\n",
       "      <td>1999.000000</td>\n",
       "      <td>1998.000000</td>\n",
       "      <td>100.000000</td>\n",
       "      <td>0.858579</td>\n",
       "      <td>100.000000</td>\n",
       "      <td>2000.000000</td>\n",
       "      <td>1999.000000</td>\n",
       "      <td>1.000000</td>\n",
       "    </tr>\n",
       "  </tbody>\n",
       "</table>\n",
       "</div>"
      ],
      "text/plain": [
       "           Timestamp          Value             C1             C2  \\\n",
       "count  140000.000000  140000.000000  116232.000000  129731.000000   \n",
       "mean   105334.592698      71.102883     -13.647954     -15.797094   \n",
       "std     52763.641695     212.359700     224.599903      72.631165   \n",
       "min         0.000000       0.000000   -2000.000000    -500.000000   \n",
       "25%     60107.500002       4.400000      -6.419730      -0.262951   \n",
       "50%     94276.111110      17.584000      -1.250014      -0.019520   \n",
       "75%    154845.833375      61.522000       5.063801       0.220734   \n",
       "max    191985.555600   20552.928000    2000.000000     100.000000   \n",
       "\n",
       "                  C3             C4             C5             C6  \\\n",
       "count  129693.000000  140000.000000  129678.000000  116529.000000   \n",
       "mean      -16.141105       0.000037     -15.540173     -13.681959   \n",
       "std        74.585111       0.031540      72.120519     230.871123   \n",
       "min      -500.000000      -0.212540    -500.000000   -2000.000000   \n",
       "25%        -9.288367      -0.017731      -0.205542      -1.149444   \n",
       "50%        -1.739613      -0.000140       0.000903       0.279868   \n",
       "75%         6.436411       0.017776       0.206203       1.092373   \n",
       "max       196.401291       0.278668     100.000000    1999.000000   \n",
       "\n",
       "                  C7             C8             C9            C10  \\\n",
       "count  125595.000000  129645.000000  140000.000000  129891.000000   \n",
       "mean      -14.760374     -16.067148       0.000119     -16.029764   \n",
       "std       235.313604      73.148242       0.215636      73.378542   \n",
       "min     -1999.000000    -500.000000      -1.544515    -500.000000   \n",
       "25%        -0.108129      -0.033800      -0.143551      -0.509781   \n",
       "50%         0.023023      -0.005629       0.003731      -0.062414   \n",
       "75%         0.109777       0.022194       0.140835       0.327266   \n",
       "max      1998.000000     100.000000       0.858579     100.000000   \n",
       "\n",
       "                 C11            C12          Class  \n",
       "count  125695.000000  125833.000000  140000.000000  \n",
       "mean      -15.500080     -15.491673       0.001807  \n",
       "std       237.289210     236.485713       0.042472  \n",
       "min     -1998.000000   -2000.000000       0.000000  \n",
       "25%        -0.277642      -0.596404       0.000000  \n",
       "50%        -0.019975       0.007491       0.000000  \n",
       "75%         0.224548       0.507399       0.000000  \n",
       "max      2000.000000    1999.000000       1.000000  "
      ]
     },
     "execution_count": 361,
     "metadata": {},
     "output_type": "execute_result"
    }
   ],
   "source": [
    "transaction_data.describe()"
   ]
  },
  {
   "cell_type": "code",
   "execution_count": null,
   "metadata": {},
   "outputs": [
    {
     "data": {
      "text/plain": [
       "Timestamp        0\n",
       "Value            0\n",
       "C1           23768\n",
       "C2           10269\n",
       "C3           10307\n",
       "C4               0\n",
       "C5           10322\n",
       "C6           23471\n",
       "C7           14405\n",
       "C8           10355\n",
       "C9               0\n",
       "C10          10109\n",
       "C11          14305\n",
       "C12          14167\n",
       "Class            0\n",
       "dtype: int64"
      ]
     },
     "execution_count": 400,
     "metadata": {},
     "output_type": "execute_result"
    }
   ],
   "source": [
    "transaction_data.isnull().sum()"
   ]
  },
  {
   "cell_type": "code",
   "execution_count": 402,
   "metadata": {},
   "outputs": [],
   "source": [
    "#imputing null values with median\n",
    "transaction_data = transaction_data.fillna(transaction_data.median())"
   ]
  },
  {
   "cell_type": "code",
   "execution_count": 403,
   "metadata": {},
   "outputs": [
    {
     "data": {
      "text/plain": [
       "Timestamp    0\n",
       "Value        0\n",
       "C1           0\n",
       "C2           0\n",
       "C3           0\n",
       "C4           0\n",
       "C5           0\n",
       "C6           0\n",
       "C7           0\n",
       "C8           0\n",
       "C9           0\n",
       "C10          0\n",
       "C11          0\n",
       "C12          0\n",
       "Class        0\n",
       "dtype: int64"
      ]
     },
     "execution_count": 403,
     "metadata": {},
     "output_type": "execute_result"
    }
   ],
   "source": [
    "#rechecking for null values\n",
    "transaction_data.isnull().sum()"
   ]
  },
  {
   "cell_type": "code",
   "execution_count": 404,
   "metadata": {},
   "outputs": [
    {
     "data": {
      "text/plain": [
       "<AxesSubplot:>"
      ]
     },
     "execution_count": 404,
     "metadata": {},
     "output_type": "execute_result"
    },
    {
     "data": {
      "image/png": "[encoded data removed]",
      "text/plain": [
       "<Figure size 576x396 with 2 Axes>"
      ]
     },
     "metadata": {},
     "output_type": "display_data"
    }
   ],
   "source": [
    "#plotting heatmap to check correlation between variables\n",
    "sns.heatmap(transaction_data.corr())"
   ]
  },
  {
   "cell_type": "code",
   "execution_count": 405,
   "metadata": {},
   "outputs": [
    {
     "data": {
      "text/html": [
       "<div>\n",
       "<style scoped>\n",
       "    .dataframe tbody tr th:only-of-type {\n",
       "        vertical-align: middle;\n",
       "    }\n",
       "\n",
       "    .dataframe tbody tr th {\n",
       "        vertical-align: top;\n",
       "    }\n",
       "\n",
       "    .dataframe thead th {\n",
       "        text-align: right;\n",
       "    }\n",
       "</style>\n",
       "<table border=\"1\" class=\"dataframe\">\n",
       "  <thead>\n",
       "    <tr style=\"text-align: right;\">\n",
       "      <th></th>\n",
       "      <th>Timestamp</th>\n",
       "      <th>Value</th>\n",
       "      <th>C1</th>\n",
       "      <th>C2</th>\n",
       "      <th>C3</th>\n",
       "      <th>C4</th>\n",
       "      <th>C5</th>\n",
       "      <th>C6</th>\n",
       "      <th>C7</th>\n",
       "      <th>C8</th>\n",
       "      <th>C9</th>\n",
       "      <th>C10</th>\n",
       "      <th>C11</th>\n",
       "      <th>C12</th>\n",
       "      <th>Class</th>\n",
       "    </tr>\n",
       "  </thead>\n",
       "  <tbody>\n",
       "    <tr>\n",
       "      <th>Timestamp</th>\n",
       "      <td>1.000000</td>\n",
       "      <td>-0.010465</td>\n",
       "      <td>0.010990</td>\n",
       "      <td>0.004186</td>\n",
       "      <td>-0.001112</td>\n",
       "      <td>-0.026449</td>\n",
       "      <td>-0.005723</td>\n",
       "      <td>0.004022</td>\n",
       "      <td>0.001288</td>\n",
       "      <td>0.000226</td>\n",
       "      <td>0.067799</td>\n",
       "      <td>-0.000403</td>\n",
       "      <td>0.001204</td>\n",
       "      <td>-0.001168</td>\n",
       "      <td>-0.009994</td>\n",
       "    </tr>\n",
       "    <tr>\n",
       "      <th>Value</th>\n",
       "      <td>-0.010465</td>\n",
       "      <td>1.000000</td>\n",
       "      <td>0.006463</td>\n",
       "      <td>-0.001535</td>\n",
       "      <td>-0.000205</td>\n",
       "      <td>0.061557</td>\n",
       "      <td>-0.005582</td>\n",
       "      <td>0.000225</td>\n",
       "      <td>-0.001804</td>\n",
       "      <td>-0.003026</td>\n",
       "      <td>-0.014649</td>\n",
       "      <td>0.003132</td>\n",
       "      <td>-0.001535</td>\n",
       "      <td>0.003082</td>\n",
       "      <td>0.007095</td>\n",
       "    </tr>\n",
       "    <tr>\n",
       "      <th>C1</th>\n",
       "      <td>0.010990</td>\n",
       "      <td>0.006463</td>\n",
       "      <td>1.000000</td>\n",
       "      <td>0.002645</td>\n",
       "      <td>0.001899</td>\n",
       "      <td>0.000136</td>\n",
       "      <td>0.002116</td>\n",
       "      <td>0.001407</td>\n",
       "      <td>0.001284</td>\n",
       "      <td>0.002912</td>\n",
       "      <td>-0.000376</td>\n",
       "      <td>0.000773</td>\n",
       "      <td>0.000843</td>\n",
       "      <td>0.000137</td>\n",
       "      <td>0.007301</td>\n",
       "    </tr>\n",
       "    <tr>\n",
       "      <th>C2</th>\n",
       "      <td>0.004186</td>\n",
       "      <td>-0.001535</td>\n",
       "      <td>0.002645</td>\n",
       "      <td>1.000000</td>\n",
       "      <td>0.002597</td>\n",
       "      <td>0.001642</td>\n",
       "      <td>-0.001658</td>\n",
       "      <td>0.000866</td>\n",
       "      <td>0.004249</td>\n",
       "      <td>0.000065</td>\n",
       "      <td>0.004493</td>\n",
       "      <td>-0.000713</td>\n",
       "      <td>0.000900</td>\n",
       "      <td>-0.003174</td>\n",
       "      <td>-0.001013</td>\n",
       "    </tr>\n",
       "    <tr>\n",
       "      <th>C3</th>\n",
       "      <td>-0.001112</td>\n",
       "      <td>-0.000205</td>\n",
       "      <td>0.001899</td>\n",
       "      <td>0.002597</td>\n",
       "      <td>1.000000</td>\n",
       "      <td>0.005303</td>\n",
       "      <td>-0.001218</td>\n",
       "      <td>0.006360</td>\n",
       "      <td>0.001056</td>\n",
       "      <td>-0.001402</td>\n",
       "      <td>0.003368</td>\n",
       "      <td>-0.000885</td>\n",
       "      <td>0.002448</td>\n",
       "      <td>0.002028</td>\n",
       "      <td>0.023299</td>\n",
       "    </tr>\n",
       "    <tr>\n",
       "      <th>C4</th>\n",
       "      <td>-0.026449</td>\n",
       "      <td>0.061557</td>\n",
       "      <td>0.000136</td>\n",
       "      <td>0.001642</td>\n",
       "      <td>0.005303</td>\n",
       "      <td>1.000000</td>\n",
       "      <td>-0.003174</td>\n",
       "      <td>0.002643</td>\n",
       "      <td>-0.000741</td>\n",
       "      <td>0.003894</td>\n",
       "      <td>0.002401</td>\n",
       "      <td>-0.001671</td>\n",
       "      <td>0.000261</td>\n",
       "      <td>0.001615</td>\n",
       "      <td>-0.032692</td>\n",
       "    </tr>\n",
       "    <tr>\n",
       "      <th>C5</th>\n",
       "      <td>-0.005723</td>\n",
       "      <td>-0.005582</td>\n",
       "      <td>0.002116</td>\n",
       "      <td>-0.001658</td>\n",
       "      <td>-0.001218</td>\n",
       "      <td>-0.003174</td>\n",
       "      <td>1.000000</td>\n",
       "      <td>-0.001140</td>\n",
       "      <td>-0.005153</td>\n",
       "      <td>0.002597</td>\n",
       "      <td>0.000955</td>\n",
       "      <td>0.002331</td>\n",
       "      <td>0.002178</td>\n",
       "      <td>0.003266</td>\n",
       "      <td>0.002595</td>\n",
       "    </tr>\n",
       "    <tr>\n",
       "      <th>C6</th>\n",
       "      <td>0.004022</td>\n",
       "      <td>0.000225</td>\n",
       "      <td>0.001407</td>\n",
       "      <td>0.000866</td>\n",
       "      <td>0.006360</td>\n",
       "      <td>0.002643</td>\n",
       "      <td>-0.001140</td>\n",
       "      <td>1.000000</td>\n",
       "      <td>0.002850</td>\n",
       "      <td>-0.003772</td>\n",
       "      <td>-0.001691</td>\n",
       "      <td>-0.000009</td>\n",
       "      <td>0.001180</td>\n",
       "      <td>0.005680</td>\n",
       "      <td>-0.003851</td>\n",
       "    </tr>\n",
       "    <tr>\n",
       "      <th>C7</th>\n",
       "      <td>0.001288</td>\n",
       "      <td>-0.001804</td>\n",
       "      <td>0.001284</td>\n",
       "      <td>0.004249</td>\n",
       "      <td>0.001056</td>\n",
       "      <td>-0.000741</td>\n",
       "      <td>-0.005153</td>\n",
       "      <td>0.002850</td>\n",
       "      <td>1.000000</td>\n",
       "      <td>0.006721</td>\n",
       "      <td>0.003435</td>\n",
       "      <td>0.000374</td>\n",
       "      <td>-0.002095</td>\n",
       "      <td>0.000720</td>\n",
       "      <td>0.006152</td>\n",
       "    </tr>\n",
       "    <tr>\n",
       "      <th>C8</th>\n",
       "      <td>0.000226</td>\n",
       "      <td>-0.003026</td>\n",
       "      <td>0.002912</td>\n",
       "      <td>0.000065</td>\n",
       "      <td>-0.001402</td>\n",
       "      <td>0.003894</td>\n",
       "      <td>0.002597</td>\n",
       "      <td>-0.003772</td>\n",
       "      <td>0.006721</td>\n",
       "      <td>1.000000</td>\n",
       "      <td>-0.002122</td>\n",
       "      <td>-0.000996</td>\n",
       "      <td>0.002828</td>\n",
       "      <td>-0.000902</td>\n",
       "      <td>0.004237</td>\n",
       "    </tr>\n",
       "    <tr>\n",
       "      <th>C9</th>\n",
       "      <td>0.067799</td>\n",
       "      <td>-0.014649</td>\n",
       "      <td>-0.000376</td>\n",
       "      <td>0.004493</td>\n",
       "      <td>0.003368</td>\n",
       "      <td>0.002401</td>\n",
       "      <td>0.000955</td>\n",
       "      <td>-0.001691</td>\n",
       "      <td>0.003435</td>\n",
       "      <td>-0.002122</td>\n",
       "      <td>1.000000</td>\n",
       "      <td>0.004328</td>\n",
       "      <td>0.000848</td>\n",
       "      <td>0.003379</td>\n",
       "      <td>0.006107</td>\n",
       "    </tr>\n",
       "    <tr>\n",
       "      <th>C10</th>\n",
       "      <td>-0.000403</td>\n",
       "      <td>0.003132</td>\n",
       "      <td>0.000773</td>\n",
       "      <td>-0.000713</td>\n",
       "      <td>-0.000885</td>\n",
       "      <td>-0.001671</td>\n",
       "      <td>0.002331</td>\n",
       "      <td>-0.000009</td>\n",
       "      <td>0.000374</td>\n",
       "      <td>-0.000996</td>\n",
       "      <td>0.004328</td>\n",
       "      <td>1.000000</td>\n",
       "      <td>0.000013</td>\n",
       "      <td>-0.002209</td>\n",
       "      <td>-0.000220</td>\n",
       "    </tr>\n",
       "    <tr>\n",
       "      <th>C11</th>\n",
       "      <td>0.001204</td>\n",
       "      <td>-0.001535</td>\n",
       "      <td>0.000843</td>\n",
       "      <td>0.000900</td>\n",
       "      <td>0.002448</td>\n",
       "      <td>0.000261</td>\n",
       "      <td>0.002178</td>\n",
       "      <td>0.001180</td>\n",
       "      <td>-0.002095</td>\n",
       "      <td>0.002828</td>\n",
       "      <td>0.000848</td>\n",
       "      <td>0.000013</td>\n",
       "      <td>1.000000</td>\n",
       "      <td>-0.002918</td>\n",
       "      <td>-0.002362</td>\n",
       "    </tr>\n",
       "    <tr>\n",
       "      <th>C12</th>\n",
       "      <td>-0.001168</td>\n",
       "      <td>0.003082</td>\n",
       "      <td>0.000137</td>\n",
       "      <td>-0.003174</td>\n",
       "      <td>0.002028</td>\n",
       "      <td>0.001615</td>\n",
       "      <td>0.003266</td>\n",
       "      <td>0.005680</td>\n",
       "      <td>0.000720</td>\n",
       "      <td>-0.000902</td>\n",
       "      <td>0.003379</td>\n",
       "      <td>-0.002209</td>\n",
       "      <td>-0.002918</td>\n",
       "      <td>1.000000</td>\n",
       "      <td>-0.001673</td>\n",
       "    </tr>\n",
       "    <tr>\n",
       "      <th>Class</th>\n",
       "      <td>-0.009994</td>\n",
       "      <td>0.007095</td>\n",
       "      <td>0.007301</td>\n",
       "      <td>-0.001013</td>\n",
       "      <td>0.023299</td>\n",
       "      <td>-0.032692</td>\n",
       "      <td>0.002595</td>\n",
       "      <td>-0.003851</td>\n",
       "      <td>0.006152</td>\n",
       "      <td>0.004237</td>\n",
       "      <td>0.006107</td>\n",
       "      <td>-0.000220</td>\n",
       "      <td>-0.002362</td>\n",
       "      <td>-0.001673</td>\n",
       "      <td>1.000000</td>\n",
       "    </tr>\n",
       "  </tbody>\n",
       "</table>\n",
       "</div>"
      ],
      "text/plain": [
       "           Timestamp     Value        C1        C2        C3        C4  \\\n",
       "Timestamp   1.000000 -0.010465  0.010990  0.004186 -0.001112 -0.026449   \n",
       "Value      -0.010465  1.000000  0.006463 -0.001535 -0.000205  0.061557   \n",
       "C1          0.010990  0.006463  1.000000  0.002645  0.001899  0.000136   \n",
       "C2          0.004186 -0.001535  0.002645  1.000000  0.002597  0.001642   \n",
       "C3         -0.001112 -0.000205  0.001899  0.002597  1.000000  0.005303   \n",
       "C4         -0.026449  0.061557  0.000136  0.001642  0.005303  1.000000   \n",
       "C5         -0.005723 -0.005582  0.002116 -0.001658 -0.001218 -0.003174   \n",
       "C6          0.004022  0.000225  0.001407  0.000866  0.006360  0.002643   \n",
       "C7          0.001288 -0.001804  0.001284  0.004249  0.001056 -0.000741   \n",
       "C8          0.000226 -0.003026  0.002912  0.000065 -0.001402  0.003894   \n",
       "C9          0.067799 -0.014649 -0.000376  0.004493  0.003368  0.002401   \n",
       "C10        -0.000403  0.003132  0.000773 -0.000713 -0.000885 -0.001671   \n",
       "C11         0.001204 -0.001535  0.000843  0.000900  0.002448  0.000261   \n",
       "C12        -0.001168  0.003082  0.000137 -0.003174  0.002028  0.001615   \n",
       "Class      -0.009994  0.007095  0.007301 -0.001013  0.023299 -0.032692   \n",
       "\n",
       "                 C5        C6        C7        C8        C9       C10  \\\n",
       "Timestamp -0.005723  0.004022  0.001288  0.000226  0.067799 -0.000403   \n",
       "Value     -0.005582  0.000225 -0.001804 -0.003026 -0.014649  0.003132   \n",
       "C1         0.002116  0.001407  0.001284  0.002912 -0.000376  0.000773   \n",
       "C2        -0.001658  0.000866  0.004249  0.000065  0.004493 -0.000713   \n",
       "C3        -0.001218  0.006360  0.001056 -0.001402  0.003368 -0.000885   \n",
       "C4        -0.003174  0.002643 -0.000741  0.003894  0.002401 -0.001671   \n",
       "C5         1.000000 -0.001140 -0.005153  0.002597  0.000955  0.002331   \n",
       "C6        -0.001140  1.000000  0.002850 -0.003772 -0.001691 -0.000009   \n",
       "C7        -0.005153  0.002850  1.000000  0.006721  0.003435  0.000374   \n",
       "C8         0.002597 -0.003772  0.006721  1.000000 -0.002122 -0.000996   \n",
       "C9         0.000955 -0.001691  0.003435 -0.002122  1.000000  0.004328   \n",
       "C10        0.002331 -0.000009  0.000374 -0.000996  0.004328  1.000000   \n",
       "C11        0.002178  0.001180 -0.002095  0.002828  0.000848  0.000013   \n",
       "C12        0.003266  0.005680  0.000720 -0.000902  0.003379 -0.002209   \n",
       "Class      0.002595 -0.003851  0.006152  0.004237  0.006107 -0.000220   \n",
       "\n",
       "                C11       C12     Class  \n",
       "Timestamp  0.001204 -0.001168 -0.009994  \n",
       "Value     -0.001535  0.003082  0.007095  \n",
       "C1         0.000843  0.000137  0.007301  \n",
       "C2         0.000900 -0.003174 -0.001013  \n",
       "C3         0.002448  0.002028  0.023299  \n",
       "C4         0.000261  0.001615 -0.032692  \n",
       "C5         0.002178  0.003266  0.002595  \n",
       "C6         0.001180  0.005680 -0.003851  \n",
       "C7        -0.002095  0.000720  0.006152  \n",
       "C8         0.002828 -0.000902  0.004237  \n",
       "C9         0.000848  0.003379  0.006107  \n",
       "C10        0.000013 -0.002209 -0.000220  \n",
       "C11        1.000000 -0.002918 -0.002362  \n",
       "C12       -0.002918  1.000000 -0.001673  \n",
       "Class     -0.002362 -0.001673  1.000000  "
      ]
     },
     "execution_count": 405,
     "metadata": {},
     "output_type": "execute_result"
    }
   ],
   "source": [
    "#finding correlation between variables\n",
    "transaction_data.corr()"
   ]
  },
  {
   "cell_type": "code",
   "execution_count": 367,
   "metadata": {},
   "outputs": [
    {
     "data": {
      "text/plain": [
       "0    139747\n",
       "1       253\n",
       "Name: Class, dtype: int64"
      ]
     },
     "execution_count": 367,
     "metadata": {},
     "output_type": "execute_result"
    }
   ],
   "source": [
    "transaction_data['Class'].value_counts()"
   ]
  },
  {
   "cell_type": "code",
   "execution_count": 406,
   "metadata": {},
   "outputs": [],
   "source": [
    "#calculating contamination value\n",
    "Fraud = transaction_data[transaction_data['Class']==1]\n",
    "\n",
    "Valid = transaction_data[transaction_data['Class']==0]\n",
    "\n",
    "contamination = len(Fraud)/float(len(Valid))"
   ]
  },
  {
   "cell_type": "code",
   "execution_count": 407,
   "metadata": {},
   "outputs": [
    {
     "name": "stdout",
     "output_type": "stream",
     "text": [
      "0.0018104145348379571\n",
      "Fraud Class : 253\n",
      "Normal Class : 139747\n"
     ]
    }
   ],
   "source": [
    "print(contamination)\n",
    "\n",
    "print(\"Fraud Class : {}\".format(len(Fraud)))\n",
    "\n",
    "print(\"Normal Class : {}\".format(len(Valid)))"
   ]
  },
  {
   "cell_type": "code",
   "execution_count": 370,
   "metadata": {},
   "outputs": [
    {
     "data": {
      "text/plain": [
       "0.0018104145348379571"
      ]
     },
     "execution_count": 370,
     "metadata": {},
     "output_type": "execute_result"
    }
   ],
   "source": [
    "contamination"
   ]
  },
  {
   "cell_type": "code",
   "execution_count": 408,
   "metadata": {},
   "outputs": [],
   "source": [
    "# Independent variables\n",
    "X = transaction_data.drop('Class',axis=1)"
   ]
  },
  {
   "cell_type": "code",
   "execution_count": 409,
   "metadata": {},
   "outputs": [],
   "source": [
    "# Dependent Variable\n",
    "y = transaction_data['Class']"
   ]
  },
  {
   "cell_type": "code",
   "execution_count": 410,
   "metadata": {},
   "outputs": [],
   "source": [
    "lof = LocalOutlierFactor(n_neighbors=20,contamination=0.0018)"
   ]
  },
  {
   "cell_type": "code",
   "execution_count": 411,
   "metadata": {},
   "outputs": [],
   "source": [
    "y_pred = lof.fit_predict(X)"
   ]
  },
  {
   "cell_type": "code",
   "execution_count": 412,
   "metadata": {},
   "outputs": [
    {
     "data": {
      "text/plain": [
       "array([1, 1, 1, ..., 1, 1, 1])"
      ]
     },
     "execution_count": 412,
     "metadata": {},
     "output_type": "execute_result"
    }
   ],
   "source": [
    "y_pred"
   ]
  },
  {
   "cell_type": "code",
   "execution_count": 413,
   "metadata": {},
   "outputs": [],
   "source": [
    "X_array = X.to_numpy()"
   ]
  },
  {
   "cell_type": "code",
   "execution_count": 414,
   "metadata": {},
   "outputs": [],
   "source": [
    "y_index = where(y_pred==-1)\n",
    "outlier_values = X_array[y_index]\n"
   ]
  },
  {
   "cell_type": "code",
   "execution_count": 415,
   "metadata": {},
   "outputs": [
    {
     "data": {
      "text/plain": [
       "array([[ 1.69492222e+05,  4.88000000e+00, -6.70446709e+00, ...,\n",
       "        -9.44606319e-01, -1.99746360e-02, -7.34109907e-01],\n",
       "       [ 4.19000000e+03,  2.16080000e+01, -3.09516211e+00, ...,\n",
       "         3.47864085e-01, -1.07654152e-01,  7.38671894e-01],\n",
       "       [ 1.00092222e+05,  7.53600000e+00, -1.92029472e+00, ...,\n",
       "        -5.30354387e-01, -1.99746360e-02,  1.29300000e+03],\n",
       "       ...,\n",
       "       [ 1.60988889e+04,  1.27600000e+01, -9.40830258e+00, ...,\n",
       "         4.12786320e-02,  1.13128618e-01, -1.40000000e+02],\n",
       "       [ 1.90295556e+05,  2.17600000e+00,  6.16262999e+00, ...,\n",
       "         3.20203631e-01, -1.99746360e-02, -6.86359270e-02],\n",
       "       [ 2.21333333e+04,  9.48000000e+00, -1.25001363e+00, ...,\n",
       "        -4.46196296e-01, -1.99746360e-02,  1.15791258e+00]])"
      ]
     },
     "execution_count": 415,
     "metadata": {},
     "output_type": "execute_result"
    }
   ],
   "source": [
    "outlier_values"
   ]
  },
  {
   "cell_type": "code",
   "execution_count": 417,
   "metadata": {
    "scrolled": true
   },
   "outputs": [
    {
     "data": {
      "image/png": "[encoded data removed]",
      "text/plain": [
       "<Figure size 576x396 with 1 Axes>"
      ]
     },
     "metadata": {},
     "output_type": "display_data"
    }
   ],
   "source": [
    "plt.scatter(X_array[:,0], X_array[:,1])\n",
    "plt.scatter(outlier_values[:,0],outlier_values[:,1], color='r')\n",
    "plt.show()"
   ]
  },
  {
   "cell_type": "code",
   "execution_count": 418,
   "metadata": {},
   "outputs": [],
   "source": [
    "X = transaction_data.drop('Class',axis=1)\n",
    "y = transaction_data['Class']"
   ]
  },
  {
   "cell_type": "code",
   "execution_count": 419,
   "metadata": {},
   "outputs": [],
   "source": [
    "lof = LocalOutlierFactor()"
   ]
  },
  {
   "cell_type": "code",
   "execution_count": 420,
   "metadata": {},
   "outputs": [],
   "source": [
    "lof.fit_predict(X)\n",
    "anomaly_scores = lof.negative_outlier_factor_ \n"
   ]
  },
  {
   "cell_type": "code",
   "execution_count": 421,
   "metadata": {},
   "outputs": [
    {
     "data": {
      "text/plain": [
       "array([-3.86741906, -1.22429401, -5.02413191, ..., -2.20988931,\n",
       "       -0.9704086 , -1.04838918])"
      ]
     },
     "execution_count": 421,
     "metadata": {},
     "output_type": "execute_result"
    }
   ],
   "source": [
    "anomaly_scores"
   ]
  },
  {
   "cell_type": "code",
   "execution_count": 422,
   "metadata": {},
   "outputs": [
    {
     "name": "stdout",
     "output_type": "stream",
     "text": [
      "-5.8824567677507575\n"
     ]
    }
   ],
   "source": [
    "threshold = quantile(anomaly_scores, .01)\n",
    "print(threshold)"
   ]
  },
  {
   "cell_type": "code",
   "execution_count": 423,
   "metadata": {},
   "outputs": [],
   "source": [
    "X_array =  X.to_numpy()"
   ]
  },
  {
   "cell_type": "code",
   "execution_count": 424,
   "metadata": {},
   "outputs": [],
   "source": [
    "index = where(anomaly_scores<=threshold)\n",
    "outlier_values = X_array[index]"
   ]
  },
  {
   "cell_type": "code",
   "execution_count": 425,
   "metadata": {},
   "outputs": [
    {
     "data": {
      "image/png": "[encoded data removed]",
      "text/plain": [
       "<Figure size 576x396 with 1 Axes>"
      ]
     },
     "metadata": {},
     "output_type": "display_data"
    }
   ],
   "source": [
    "plt.scatter(X_array[:,0], X_array[:,1])\n",
    "plt.scatter(outlier_values[:,0], outlier_values[:,1], color='r')\n",
    "plt.show()\n"
   ]
  }
 ],
 "metadata": {
  "kernelspec": {
   "display_name": "Python 3",
   "language": "python",
   "name": "python3"
  },
  "language_info": {
   "codemirror_mode": {
    "name": "ipython",
    "version": 3
   },
   "file_extension": ".py",
   "mimetype": "text/x-python",
   "name": "python",
   "nbconvert_exporter": "python",
   "pygments_lexer": "ipython3",
   "version": "3.8.3"
  }
 },
 "nbformat": 4,
 "nbformat_minor": 4
}
